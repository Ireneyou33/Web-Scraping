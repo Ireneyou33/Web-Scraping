{
 "cells": [
  {
   "cell_type": "code",
   "execution_count": 187,
   "metadata": {},
   "outputs": [],
   "source": [
    "from bs4 import BeautifulSoup\n",
    "import requests\n",
    "from selenium import webdriver\n",
    "import pandas as pd"
   ]
  },
  {
   "cell_type": "code",
   "execution_count": 188,
   "metadata": {
    "scrolled": true
   },
   "outputs": [],
   "source": [
    "driver = webdriver.Chrome(r\"C:\\Users\\hp\\chromedriver.exe\")"
   ]
  },
  {
   "cell_type": "code",
   "execution_count": 189,
   "metadata": {},
   "outputs": [],
   "source": [
    "url=\"https://www.volunteermbc.org/Listings.php?ListType=VolunteerPositionsAll&MenuItemID=1&SetSessionVars=1&http_user_agent=Mozilla%2F5.0+%28Windows+NT+10.0%3B+Win64%3B+x64%29+AppleWebKit%2F537.36+%28KHTML%2C+like+Gecko%29+Chrome%2F83.0.4103.116+Safari%2F537.36&remote_addr=162.158.74.195&SESSIONID=qfipe3jlqrkooq47bd6apnlqed&age=19-24&Duration=&Availability%5B%5D=%271%27&Availability%5B%5D=%272%27&Availability%5B%5D=%273%27&Availability%5B%5D=%274%27&Availability%5B%5D=%275%27&Availability%5B%5D=%276%27&GeographicalLocation=&AreasOfInterest=&keyword=COVID-19&vol_name=1&Action=Search&Transportation=0&Accessibility=&Agency_Number=&SetSessionVars=1&http_user_agent=Mozilla%2F5.0+%28Windows+NT+10.0%3B+Win64%3B+x64%29+AppleWebKit%2F537.36+%28KHTML%2C+like+Gecko%29+Chrome%2F83.0.4103.116+Safari%2F537.36&remote_addr=162.158.74.195&SESSIONID=qfipe3jlqrkooq47bd6apnlqed&age=&Duration=&Availability=&Availability%5B%5D=%271%27&Availability%5B%5D=%272%27&Availability%5B%5D=%273%27&Availability%5B%5D=%274%27&Availability%5B%5D=%275%27&Availability%5B%5D=%276%27&GeographicalLocation=&AreasOfInterest=&keyword=COVID-19&vol_name=1&Action=Search&Transportation=0&Accessibility=&Agency_Number=\"\n",
    "driver.get(url)"
   ]
  },
  {
   "cell_type": "code",
   "execution_count": 190,
   "metadata": {},
   "outputs": [],
   "source": [
    "web=\"https://www.volunteermbc.org/\""
   ]
  },
  {
   "cell_type": "code",
   "execution_count": 191,
   "metadata": {
    "scrolled": false
   },
   "outputs": [],
   "source": [
    "pgLnk=[url]\n",
    "pglink = soup.find_all('a', attrs={'class':'pgLnk pgLnkNum'})\n",
    "for l in pglink:\n",
    "    pgLnk.append(web+l.get('href'))"
   ]
  },
  {
   "cell_type": "markdown",
   "metadata": {},
   "source": [
    "Get main info"
   ]
  },
  {
   "cell_type": "code",
   "execution_count": 192,
   "metadata": {},
   "outputs": [],
   "source": [
    "Position=[]\n",
    "Location=[]\n",
    "Organization=[]\n",
    "Websites=[]\n",
    "Description=[]"
   ]
  },
  {
   "cell_type": "code",
   "execution_count": 193,
   "metadata": {},
   "outputs": [],
   "source": [
    "def get_main_info(mlist,Position, Organization, Location):\n",
    "    for i in range(len(mlist)):\n",
    "        pos = mlist[i].find('div',attrs={\"class\":\"cell1\"})\n",
    "        Position.append(pos.get_text())\n",
    "        org = mlist[i].find_all('div',attrs={\"class\":\"cell2\"})\n",
    "        Organization.append(org[0].get_text().split(\":\")[1])\n",
    "        Location.append(org[1].get_text().split(\":\")[1])\n",
    "    return Position, Organization, Location"
   ]
  },
  {
   "cell_type": "code",
   "execution_count": 194,
   "metadata": {},
   "outputs": [],
   "source": [
    "def get_websites(soup):\n",
    "    webs = soup.find_all('span', attrs={\"class\": \"customLink\"})\n",
    "    for i in range(len(webs)):\n",
    "        w = webs[i].find_all(\"a\")\n",
    "        for link in w:\n",
    "            Websites.append(web+link.get(\"href\"))\n",
    "    return Websites"
   ]
  },
  {
   "cell_type": "code",
   "execution_count": 195,
   "metadata": {},
   "outputs": [],
   "source": [
    "def get_description(Websites):\n",
    "    Description=[]\n",
    "    for link in Websites:\n",
    "        Content=[]\n",
    "        html_content = requests.get(link).text\n",
    "        soup = BeautifulSoup(html_content, \"lxml\")\n",
    "        des=soup.find_all('tr')\n",
    "        idx_des = [i for i in range(len(des)) if des[i].find(string='Description') != None]\n",
    "        Content.append(des[idx_des[-1]].get_text())\n",
    "        idx_des = [i for i in range(len(des)) if des[i].find(string='Goal') != None]\n",
    "        Content.append(des[idx_des[-1]].get_text())\n",
    "        idx_des = [i for i in range(len(des)) if des[i].find(string='Benefits') != None]\n",
    "        Content.append(des[idx_des[-1]].get_text())\n",
    "        idx_des = [i for i in range(len(des)) if des[i].find(string='Position Qualifications') != None]\n",
    "        Content.append(des[idx_des[-1]].get_text())\n",
    "        idx_des = [i for i in range(len(des)) if des[i].find(string='Time Commitment') != None]\n",
    "        Content.append(des[idx_des[-1]].get_text())\n",
    "        idx_des = [i for i in range(len(des)) if des[i].find(string='Training') != None]\n",
    "        Content.append(des[idx_des[-1]].get_text())\n",
    "        Description.append(Content)\n",
    "    return Description"
   ]
  },
  {
   "cell_type": "code",
   "execution_count": 196,
   "metadata": {
    "scrolled": true
   },
   "outputs": [],
   "source": [
    "for i in range(len(pgLnk)):\n",
    "    html_content = requests.get(pgLnk[i]).text\n",
    "    soup = BeautifulSoup(html_content, \"lxml\")\n",
    "    mainlist = soup.find_all('div',attrs={'class': 'MainList'})\n",
    "    Position, Organization, Location = get_main_info(mainlist, Position, Organization, Location)\n",
    "    Websites = get_websites(soup)\n",
    "    Description = get_description(Websites)"
   ]
  },
  {
   "cell_type": "markdown",
   "metadata": {},
   "source": [
    "Location:\n",
    "<br> M: Mississauga\n",
    "<br> B: Brampton\n",
    "<br> C: Caledon\n",
    "<br> V: Virtual"
   ]
  },
  {
   "cell_type": "code",
   "execution_count": 197,
   "metadata": {},
   "outputs": [],
   "source": [
    "df = pd.DataFrame({'Position':Position,'Location':Location, \n",
    "                 'Organization':Organization,\n",
    "                  \"Websites\": Websites,\n",
    "                  \"Description\": Description}) "
   ]
  },
  {
   "cell_type": "code",
   "execution_count": 198,
   "metadata": {},
   "outputs": [
    {
     "data": {
      "text/html": [
       "<div>\n",
       "<style scoped>\n",
       "    .dataframe tbody tr th:only-of-type {\n",
       "        vertical-align: middle;\n",
       "    }\n",
       "\n",
       "    .dataframe tbody tr th {\n",
       "        vertical-align: top;\n",
       "    }\n",
       "\n",
       "    .dataframe thead th {\n",
       "        text-align: right;\n",
       "    }\n",
       "</style>\n",
       "<table border=\"1\" class=\"dataframe\">\n",
       "  <thead>\n",
       "    <tr style=\"text-align: right;\">\n",
       "      <th></th>\n",
       "      <th>Position</th>\n",
       "      <th>Location</th>\n",
       "      <th>Organization</th>\n",
       "      <th>Websites</th>\n",
       "      <th>Description</th>\n",
       "    </tr>\n",
       "  </thead>\n",
       "  <tbody>\n",
       "    <tr>\n",
       "      <th>0</th>\n",
       "      <td>Telephone Reassurance Program (ACTIVE during t...</td>\n",
       "      <td>M/B/C/V</td>\n",
       "      <td>Victorian Order of Nurses, Peel Region, Comm...</td>\n",
       "      <td>https://www.volunteermbc.org/report.php?ListTy...</td>\n",
       "      <td>[\\n\\n\\n\\nDescriptionBrighten the day of an iso...</td>\n",
       "    </tr>\n",
       "    <tr>\n",
       "      <th>1</th>\n",
       "      <td>COVID-19 Community Response DRIVERS (on call)</td>\n",
       "      <td>M/B/C/V</td>\n",
       "      <td>Volunteer MBC</td>\n",
       "      <td>https://www.volunteermbc.org/report.php?ListTy...</td>\n",
       "      <td>[\\n\\n\\n\\nDescription&gt; Volunteers are 'on-call'...</td>\n",
       "    </tr>\n",
       "    <tr>\n",
       "      <th>2</th>\n",
       "      <td>Board of Directors - Member (Please apply duri...</td>\n",
       "      <td>M/B/C/V</td>\n",
       "      <td>North Peel &amp; Dufferin Community Legal Services</td>\n",
       "      <td>https://www.volunteermbc.org/report.php?ListTy...</td>\n",
       "      <td>[\\n\\n\\n\\nDescriptionWe are particularly intere...</td>\n",
       "    </tr>\n",
       "    <tr>\n",
       "      <th>3</th>\n",
       "      <td>Meals On Wheels Volunteer Driver - solo or in ...</td>\n",
       "      <td>Mississauga</td>\n",
       "      <td>Victorian Order of Nurses, Peel Region, Comm...</td>\n",
       "      <td>https://www.volunteermbc.org/report.php?ListTy...</td>\n",
       "      <td>[\\n\\n\\n\\nDescriptionThis position is ideal for...</td>\n",
       "    </tr>\n",
       "    <tr>\n",
       "      <th>4</th>\n",
       "      <td>Marketing Career Mentor (VIRTUAL during COVID-...</td>\n",
       "      <td>M/B/C/V</td>\n",
       "      <td>Sheridan College Community Employment Services</td>\n",
       "      <td>https://www.volunteermbc.org/report.php?ListTy...</td>\n",
       "      <td>[\\n\\n\\n\\nDescriptionMentors are paired with an...</td>\n",
       "    </tr>\n",
       "  </tbody>\n",
       "</table>\n",
       "</div>"
      ],
      "text/plain": [
       "                                            Position       Location  \\\n",
       "0  Telephone Reassurance Program (ACTIVE during t...        M/B/C/V   \n",
       "1     COVID-19 Community Response DRIVERS (on call)         M/B/C/V   \n",
       "2  Board of Directors - Member (Please apply duri...        M/B/C/V   \n",
       "3  Meals On Wheels Volunteer Driver - solo or in ...    Mississauga   \n",
       "4  Marketing Career Mentor (VIRTUAL during COVID-...        M/B/C/V   \n",
       "\n",
       "                                        Organization  \\\n",
       "0    Victorian Order of Nurses, Peel Region, Comm...   \n",
       "1                                      Volunteer MBC   \n",
       "2     North Peel & Dufferin Community Legal Services   \n",
       "3    Victorian Order of Nurses, Peel Region, Comm...   \n",
       "4     Sheridan College Community Employment Services   \n",
       "\n",
       "                                            Websites  \\\n",
       "0  https://www.volunteermbc.org/report.php?ListTy...   \n",
       "1  https://www.volunteermbc.org/report.php?ListTy...   \n",
       "2  https://www.volunteermbc.org/report.php?ListTy...   \n",
       "3  https://www.volunteermbc.org/report.php?ListTy...   \n",
       "4  https://www.volunteermbc.org/report.php?ListTy...   \n",
       "\n",
       "                                         Description  \n",
       "0  [\\n\\n\\n\\nDescriptionBrighten the day of an iso...  \n",
       "1  [\\n\\n\\n\\nDescription> Volunteers are 'on-call'...  \n",
       "2  [\\n\\n\\n\\nDescriptionWe are particularly intere...  \n",
       "3  [\\n\\n\\n\\nDescriptionThis position is ideal for...  \n",
       "4  [\\n\\n\\n\\nDescriptionMentors are paired with an...  "
      ]
     },
     "execution_count": 198,
     "metadata": {},
     "output_type": "execute_result"
    }
   ],
   "source": [
    "df.head()"
   ]
  },
  {
   "cell_type": "code",
   "execution_count": 199,
   "metadata": {},
   "outputs": [],
   "source": [
    "df.to_csv('MBC_volunteer.csv', index=False, encoding='utf-8_sig')"
   ]
  }
 ],
 "metadata": {
  "kernelspec": {
   "display_name": "Python 3",
   "language": "python",
   "name": "python3"
  },
  "language_info": {
   "codemirror_mode": {
    "name": "ipython",
    "version": 3
   },
   "file_extension": ".py",
   "mimetype": "text/x-python",
   "name": "python",
   "nbconvert_exporter": "python",
   "pygments_lexer": "ipython3",
   "version": "3.7.1"
  }
 },
 "nbformat": 4,
 "nbformat_minor": 2
}
